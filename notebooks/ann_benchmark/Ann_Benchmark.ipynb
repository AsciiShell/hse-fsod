{
 "cells": [
  {
   "cell_type": "code",
   "execution_count": 1,
   "id": "a0414747-b196-4b4f-8256-7eb314bd0400",
   "metadata": {
    "execution": {
     "iopub.execute_input": "2022-05-09T06:35:56.170238Z",
     "iopub.status.busy": "2022-05-09T06:35:56.170089Z",
     "iopub.status.idle": "2022-05-09T06:35:56.184189Z",
     "shell.execute_reply": "2022-05-09T06:35:56.183806Z",
     "shell.execute_reply.started": "2022-05-09T06:35:56.170193Z"
    },
    "tags": []
   },
   "outputs": [],
   "source": [
    "import setproctitle\n",
    "\n",
    "setproctitle.setproctitle(f\"ANN_BENCHMARK\")"
   ]
  },
  {
   "cell_type": "code",
   "execution_count": 2,
   "id": "df5e1d98-0e16-414a-89e8-f388cbfdeecd",
   "metadata": {
    "execution": {
     "iopub.execute_input": "2022-05-09T06:35:56.184890Z",
     "iopub.status.busy": "2022-05-09T06:35:56.184767Z",
     "iopub.status.idle": "2022-05-09T06:36:17.555287Z",
     "shell.execute_reply": "2022-05-09T06:36:17.554828Z",
     "shell.execute_reply.started": "2022-05-09T06:35:56.184875Z"
    },
    "tags": []
   },
   "outputs": [
    {
     "name": "stderr",
     "output_type": "stream",
     "text": [
      "2022-05-09 06:35:59.660904: W tensorflow/stream_executor/platform/default/dso_loader.cc:64] Could not load dynamic library 'libcudart.so.11.0'; dlerror: libcudart.so.11.0: cannot open shared object file: No such file or directory\n",
      "2022-05-09 06:35:59.660943: I tensorflow/stream_executor/cuda/cudart_stub.cc:29] Ignore above cudart dlerror if you do not have a GPU set up on your machine.\n"
     ]
    }
   ],
   "source": [
    "import os\n",
    "import time\n",
    "import json\n",
    "import annoy\n",
    "import numpy as np\n",
    "import scann\n",
    "from tqdm.notebook import tqdm\n",
    "from sklearn.metrics import ndcg_score"
   ]
  },
  {
   "cell_type": "code",
   "execution_count": 3,
   "id": "9f215478-6cf4-4b31-8a8a-59c2070531f6",
   "metadata": {
    "execution": {
     "iopub.execute_input": "2022-05-09T06:36:17.556840Z",
     "iopub.status.busy": "2022-05-09T06:36:17.556507Z",
     "iopub.status.idle": "2022-05-09T06:36:19.514457Z",
     "shell.execute_reply": "2022-05-09T06:36:19.513970Z",
     "shell.execute_reply.started": "2022-05-09T06:36:17.556821Z"
    },
    "tags": []
   },
   "outputs": [
    {
     "data": {
      "text/plain": [
       "((852831, 512), (1203, 512))"
      ]
     },
     "execution_count": 3,
     "metadata": {},
     "output_type": "execute_result"
    }
   ],
   "source": [
    "emb_train = np.load(\"/home/asciishell/s3/asciishell-fsod/RunYoloV2/valid_emb.npy\").astype(np.float32)\n",
    "emb_test = np.load(\"/home/asciishell/s3/asciishell-fsod/RunYolo/categories_emb.npy\").astype(np.float32)\n",
    "emb_train.shape, emb_test.shape"
   ]
  },
  {
   "cell_type": "code",
   "execution_count": 4,
   "id": "5296c8a1-7703-46e3-8c06-a0a73cc70e95",
   "metadata": {
    "execution": {
     "iopub.execute_input": "2022-05-09T06:36:19.515579Z",
     "iopub.status.busy": "2022-05-09T06:36:19.515226Z",
     "iopub.status.idle": "2022-05-09T06:36:19.517940Z",
     "shell.execute_reply": "2022-05-09T06:36:19.517523Z",
     "shell.execute_reply.started": "2022-05-09T06:36:19.515559Z"
    },
    "tags": []
   },
   "outputs": [],
   "source": [
    "NEIGHBOR_SIZE = 30"
   ]
  },
  {
   "cell_type": "code",
   "execution_count": 5,
   "id": "976f722c-3794-47e1-9ba5-4a002014f882",
   "metadata": {
    "execution": {
     "iopub.execute_input": "2022-05-09T06:36:19.519116Z",
     "iopub.status.busy": "2022-05-09T06:36:19.518753Z",
     "iopub.status.idle": "2022-05-09T06:36:19.524855Z",
     "shell.execute_reply": "2022-05-09T06:36:19.524423Z",
     "shell.execute_reply.started": "2022-05-09T06:36:19.519095Z"
    },
    "tags": []
   },
   "outputs": [],
   "source": [
    "experimets = []"
   ]
  },
  {
   "cell_type": "code",
   "execution_count": 6,
   "id": "a8ae408a-1642-4782-b9c0-e21e5ad4b979",
   "metadata": {
    "execution": {
     "iopub.execute_input": "2022-05-09T06:36:19.525579Z",
     "iopub.status.busy": "2022-05-09T06:36:19.525445Z",
     "iopub.status.idle": "2022-05-09T06:36:19.531082Z",
     "shell.execute_reply": "2022-05-09T06:36:19.530676Z",
     "shell.execute_reply.started": "2022-05-09T06:36:19.525564Z"
    },
    "tags": []
   },
   "outputs": [],
   "source": [
    "def cos_sim_matrix(a, b):\n",
    "    return np.dot(a, b) / np.linalg.norm(b)\n",
    "\n",
    "\n",
    "def get_ns_by_vector(vec, n):\n",
    "    vec = vec.astype(np.float32)\n",
    "    dist = cos_sim_matrix(emb_train, vec)\n",
    "    idx = np.argsort(dist)\n",
    "    top_idx = idx[: -n - 1 : -1]\n",
    "    return top_idx, dist"
   ]
  },
  {
   "cell_type": "code",
   "execution_count": 7,
   "id": "b021c39c-93ca-4ebb-bb54-d45ba54384f6",
   "metadata": {
    "execution": {
     "iopub.execute_input": "2022-05-09T06:36:19.532025Z",
     "iopub.status.busy": "2022-05-09T06:36:19.531709Z",
     "iopub.status.idle": "2022-05-09T06:39:20.221467Z",
     "shell.execute_reply": "2022-05-09T06:39:20.220987Z",
     "shell.execute_reply.started": "2022-05-09T06:36:19.532007Z"
    },
    "tags": []
   },
   "outputs": [
    {
     "data": {
      "application/vnd.jupyter.widget-view+json": {
       "model_id": "8c2cb1790f8c46f398a42931b900f2a0",
       "version_major": 2,
       "version_minor": 0
      },
      "text/plain": [
       "  0%|          | 0/1203 [00:00<?, ?it/s]"
      ]
     },
     "metadata": {},
     "output_type": "display_data"
    }
   ],
   "source": [
    "true_neig = []\n",
    "start = time.time()\n",
    "for vec in tqdm(emb_test):\n",
    "    neig, dist = get_ns_by_vector(vec, len(emb_train))\n",
    "    true_neig.append(neig[:1000].copy())\n",
    "end = time.time()\n",
    "true_neig = np.array(true_neig)\n",
    "experimets.append(\n",
    "    {\n",
    "        \"name\": \"BF\",\n",
    "        \"build_time\": 0,\n",
    "        \"time\": end - start,\n",
    "        \"recall\": 1,\n",
    "        \"ndcg\": 1,\n",
    "    }\n",
    ")"
   ]
  },
  {
   "cell_type": "code",
   "execution_count": 8,
   "id": "862eaa57-0663-4c90-82df-dff7f06791ca",
   "metadata": {
    "execution": {
     "iopub.execute_input": "2022-05-09T06:39:20.222608Z",
     "iopub.status.busy": "2022-05-09T06:39:20.222235Z",
     "iopub.status.idle": "2022-05-09T06:39:20.225570Z",
     "shell.execute_reply": "2022-05-09T06:39:20.225129Z",
     "shell.execute_reply.started": "2022-05-09T06:39:20.222587Z"
    }
   },
   "outputs": [],
   "source": [
    "def compute_recall(neighbors, true_neighbors):\n",
    "    total = 0\n",
    "    for gt_row, row in zip(true_neighbors, neighbors):\n",
    "        total += np.intersect1d(gt_row, row).shape[0]\n",
    "    return total / true_neighbors.size"
   ]
  },
  {
   "cell_type": "markdown",
   "id": "cc240330-3022-49d2-9622-f0c4f5021ebd",
   "metadata": {},
   "source": [
    "# Annoy"
   ]
  },
  {
   "cell_type": "code",
   "execution_count": 9,
   "id": "f77bfa4b-cf0b-42ac-ad2c-dbbe605e473c",
   "metadata": {
    "execution": {
     "iopub.execute_input": "2022-05-09T06:39:20.226565Z",
     "iopub.status.busy": "2022-05-09T06:39:20.226248Z",
     "iopub.status.idle": "2022-05-09T07:02:29.843944Z",
     "shell.execute_reply": "2022-05-09T07:02:29.843345Z",
     "shell.execute_reply.started": "2022-05-09T06:39:20.226548Z"
    },
    "tags": []
   },
   "outputs": [
    {
     "data": {
      "application/vnd.jupyter.widget-view+json": {
       "model_id": "4b47a172f7b94917b900600ecdc6214d",
       "version_major": 2,
       "version_minor": 0
      },
      "text/plain": [
       "  0%|          | 0/7 [00:00<?, ?it/s]"
      ]
     },
     "metadata": {},
     "output_type": "display_data"
    },
    {
     "name": "stdout",
     "output_type": "stream",
     "text": [
      "{'name': 'Annoy_5', 'build_time': 33.39054775238037, 'time': 0.20062565803527832, 'recall': 0.04546965918536991, 'ndcg': 0.8383973100310024}\n",
      "{'name': 'Annoy_50', 'build_time': 44.913474559783936, 'time': 0.7518095970153809, 'recall': 0.16115267387087837, 'ndcg': 0.8414715198373985}\n",
      "{'name': 'Annoy_100', 'build_time': 60.77546215057373, 'time': 1.2996938228607178, 'recall': 0.23203103352729287, 'ndcg': 0.8429523699728156}\n",
      "{'name': 'Annoy_250', 'build_time': 102.70256018638611, 'time': 2.728666305541992, 'recall': 0.36411748406760874, 'ndcg': 0.8464349453352958}\n",
      "{'name': 'Annoy_500', 'build_time': 174.94754767417908, 'time': 4.822695255279541, 'recall': 0.45852036575228594, 'ndcg': 0.851302384162423}\n",
      "{'name': 'Annoy_1000', 'build_time': 323.5422558784485, 'time': 8.530762195587158, 'recall': 0.5426156830146855, 'ndcg': 0.8578699367201398}\n",
      "{'name': 'Annoy_2000', 'build_time': 615.1167879104614, 'time': 15.330833196640015, 'recall': 0.6186478248822388, 'ndcg': 0.8689125335827335}\n"
     ]
    }
   ],
   "source": [
    "for size in tqdm([5, 50, 100, 250, 500, 1000, 2000]):\n",
    "    start = time.time()\n",
    "    t = annoy.AnnoyIndex(emb_train.shape[1], \"angular\")\n",
    "    for i, v in enumerate(emb_train):\n",
    "        t.add_item(i, v)\n",
    "    t.build(size)\n",
    "    build_time = time.time() - start\n",
    "\n",
    "    start = time.time()\n",
    "    neighbors = []\n",
    "    for vec in emb_test:\n",
    "        neig, dist = t.get_nns_by_vector(vec, NEIGHBOR_SIZE, include_distances=True)\n",
    "        neighbors.append(neig)\n",
    "    query_time = time.time() - start\n",
    "    neighbors = np.array(neighbors)\n",
    "\n",
    "    experimets.append(\n",
    "        {\n",
    "            \"name\": \"Annoy_{}\".format(t.get_n_trees()),\n",
    "            \"build_time\": build_time,\n",
    "            \"time\": query_time,\n",
    "            \"recall\": compute_recall(neighbors, true_neig[:, :30]),\n",
    "            \"ndcg\": ndcg_score(true_neig[:, :30], neighbors),\n",
    "        }\n",
    "    )\n",
    "    print(experimets[-1])\n"
   ]
  },
  {
   "cell_type": "markdown",
   "id": "4f23706b-425a-4d3b-b29d-a7066ac45806",
   "metadata": {
    "execution": {
     "iopub.execute_input": "2022-05-08T19:43:11.725739Z",
     "iopub.status.busy": "2022-05-08T19:43:11.725262Z",
     "iopub.status.idle": "2022-05-08T19:43:11.727932Z",
     "shell.execute_reply": "2022-05-08T19:43:11.727458Z",
     "shell.execute_reply.started": "2022-05-08T19:43:11.725716Z"
    },
    "tags": []
   },
   "source": [
    "# ScaNN"
   ]
  },
  {
   "cell_type": "code",
   "execution_count": 19,
   "id": "12ba3e2e-ddd5-4189-acab-05d599c7c659",
   "metadata": {
    "execution": {
     "iopub.execute_input": "2022-05-09T07:05:59.261366Z",
     "iopub.status.busy": "2022-05-09T07:05:59.260915Z",
     "iopub.status.idle": "2022-05-09T07:05:59.264455Z",
     "shell.execute_reply": "2022-05-09T07:05:59.264042Z",
     "shell.execute_reply.started": "2022-05-09T07:05:59.261343Z"
    },
    "tags": []
   },
   "outputs": [],
   "source": [
    "tasks = []\n",
    "for leaves in [500, 2000, 5000, 10_000]:\n",
    "    for leaves_search in [0.1, 0.5, 0.9]:\n",
    "        for reorder in [50, 100, 500]:\n",
    "            tasks.append({\n",
    "                'leaves': leaves,\n",
    "                'leaves_search': leaves_search,\n",
    "                'reorder': reorder,\n",
    "            })"
   ]
  },
  {
   "cell_type": "code",
   "execution_count": 20,
   "id": "dc689be1-ddd0-4454-8a7f-b509a62f7a4d",
   "metadata": {
    "collapsed": true,
    "execution": {
     "iopub.execute_input": "2022-05-09T07:06:02.443600Z",
     "iopub.status.busy": "2022-05-09T07:06:02.443107Z",
     "iopub.status.idle": "2022-05-09T08:12:53.753154Z",
     "shell.execute_reply": "2022-05-09T08:12:53.752616Z",
     "shell.execute_reply.started": "2022-05-09T07:06:02.443576Z"
    },
    "jupyter": {
     "outputs_hidden": true
    },
    "tags": []
   },
   "outputs": [
    {
     "data": {
      "application/vnd.jupyter.widget-view+json": {
       "model_id": "c1ebe1847cd44d6e95680dc9178864fc",
       "version_major": 2,
       "version_minor": 0
      },
      "text/plain": [
       "  0%|          | 0/36 [00:00<?, ?it/s]"
      ]
     },
     "metadata": {},
     "output_type": "display_data"
    },
    {
     "name": "stderr",
     "output_type": "stream",
     "text": [
      "[libprotobuf WARNING external/com_google_protobuf/src/google/protobuf/text_format.cc:339] Warning parsing text-format research_scann.ScannConfig: 43:11: text format contains deprecated field \"min_cluster_size\"\n",
      "2022-05-09 07:06:04.198361: I scann/partitioning/partitioner_factory_base.cc:71] Size of sampled dataset for training partition: 852831\n",
      "2022-05-09 07:06:16.495528: I ./scann/partitioning/kmeans_tree_partitioner_utils.h:102] PartitionerFactory ran in 12.297081022s.\n"
     ]
    },
    {
     "name": "stdout",
     "output_type": "stream",
     "text": [
      "{'name': 'ScaNN_{\"leaves\": 500, \"leaves_search\": 0.1, \"reorder\": 50}', 'build_time': 38.102540254592896, 'time': 0.9346880912780762, 'recall': 0.7098365198115821, 'ndcg': 0.8774075538790683}\n"
     ]
    },
    {
     "name": "stderr",
     "output_type": "stream",
     "text": [
      "[libprotobuf WARNING external/com_google_protobuf/src/google/protobuf/text_format.cc:339] Warning parsing text-format research_scann.ScannConfig: 43:11: text format contains deprecated field \"min_cluster_size\"\n",
      "2022-05-09 07:06:43.342574: I scann/partitioning/partitioner_factory_base.cc:71] Size of sampled dataset for training partition: 852831\n",
      "2022-05-09 07:06:55.324687: I ./scann/partitioning/kmeans_tree_partitioner_utils.h:102] PartitionerFactory ran in 11.982028776s.\n"
     ]
    },
    {
     "name": "stdout",
     "output_type": "stream",
     "text": [
      "{'name': 'ScaNN_{\"leaves\": 500, \"leaves_search\": 0.1, \"reorder\": 100}', 'build_time': 37.62420439720154, 'time': 0.9929089546203613, 'recall': 0.8389027431421446, 'ndcg': 0.900886383189927}\n"
     ]
    },
    {
     "name": "stderr",
     "output_type": "stream",
     "text": [
      "[libprotobuf WARNING external/com_google_protobuf/src/google/protobuf/text_format.cc:339] Warning parsing text-format research_scann.ScannConfig: 43:11: text format contains deprecated field \"min_cluster_size\"\n",
      "2022-05-09 07:07:22.042319: I scann/partitioning/partitioner_factory_base.cc:71] Size of sampled dataset for training partition: 852831\n",
      "2022-05-09 07:07:34.456124: I ./scann/partitioning/kmeans_tree_partitioner_utils.h:102] PartitionerFactory ran in 12.413724324s.\n"
     ]
    },
    {
     "name": "stdout",
     "output_type": "stream",
     "text": [
      "{'name': 'ScaNN_{\"leaves\": 500, \"leaves_search\": 0.1, \"reorder\": 500}', 'build_time': 38.21630668640137, 'time': 1.1187522411346436, 'recall': 0.9054031587697423, 'ndcg': 0.927346861771196}\n"
     ]
    },
    {
     "name": "stderr",
     "output_type": "stream",
     "text": [
      "[libprotobuf WARNING external/com_google_protobuf/src/google/protobuf/text_format.cc:339] Warning parsing text-format research_scann.ScannConfig: 43:11: text format contains deprecated field \"min_cluster_size\"\n",
      "2022-05-09 07:08:01.501385: I scann/partitioning/partitioner_factory_base.cc:71] Size of sampled dataset for training partition: 852831\n",
      "2022-05-09 07:08:14.044792: I ./scann/partitioning/kmeans_tree_partitioner_utils.h:102] PartitionerFactory ran in 12.543309004s.\n"
     ]
    },
    {
     "name": "stdout",
     "output_type": "stream",
     "text": [
      "{'name': 'ScaNN_{\"leaves\": 500, \"leaves_search\": 0.5, \"reorder\": 50}', 'build_time': 38.37389922142029, 'time': 5.656149387359619, 'recall': 0.7412856747021336, 'ndcg': 0.8856686147541323}\n"
     ]
    },
    {
     "name": "stderr",
     "output_type": "stream",
     "text": [
      "[libprotobuf WARNING external/com_google_protobuf/src/google/protobuf/text_format.cc:339] Warning parsing text-format research_scann.ScannConfig: 43:11: text format contains deprecated field \"min_cluster_size\"\n",
      "2022-05-09 07:08:45.579897: I scann/partitioning/partitioner_factory_base.cc:71] Size of sampled dataset for training partition: 852831\n",
      "2022-05-09 07:08:57.923108: I ./scann/partitioning/kmeans_tree_partitioner_utils.h:102] PartitionerFactory ran in 12.343124073s.\n"
     ]
    },
    {
     "name": "stdout",
     "output_type": "stream",
     "text": [
      "{'name': 'ScaNN_{\"leaves\": 500, \"leaves_search\": 0.5, \"reorder\": 100}', 'build_time': 37.973384380340576, 'time': 5.6103901863098145, 'recall': 0.8915211970074813, 'ndcg': 0.9242088476683811}\n"
     ]
    },
    {
     "name": "stderr",
     "output_type": "stream",
     "text": [
      "[libprotobuf WARNING external/com_google_protobuf/src/google/protobuf/text_format.cc:339] Warning parsing text-format research_scann.ScannConfig: 43:11: text format contains deprecated field \"min_cluster_size\"\n",
      "2022-05-09 07:09:29.220458: I scann/partitioning/partitioner_factory_base.cc:71] Size of sampled dataset for training partition: 852831\n",
      "2022-05-09 07:09:41.441200: I ./scann/partitioning/kmeans_tree_partitioner_utils.h:102] PartitionerFactory ran in 12.220659236s.\n"
     ]
    },
    {
     "name": "stdout",
     "output_type": "stream",
     "text": [
      "{'name': 'ScaNN_{\"leaves\": 500, \"leaves_search\": 0.5, \"reorder\": 500}', 'build_time': 37.979209899902344, 'time': 5.802263259887695, 'recall': 0.9835965641451926, 'ndcg': 0.9779715293370631}\n"
     ]
    },
    {
     "name": "stderr",
     "output_type": "stream",
     "text": [
      "[libprotobuf WARNING external/com_google_protobuf/src/google/protobuf/text_format.cc:339] Warning parsing text-format research_scann.ScannConfig: 43:11: text format contains deprecated field \"min_cluster_size\"\n",
      "2022-05-09 07:10:13.068696: I scann/partitioning/partitioner_factory_base.cc:71] Size of sampled dataset for training partition: 852831\n",
      "2022-05-09 07:10:25.441314: I ./scann/partitioning/kmeans_tree_partitioner_utils.h:102] PartitionerFactory ran in 12.372531022s.\n"
     ]
    },
    {
     "name": "stdout",
     "output_type": "stream",
     "text": [
      "{'name': 'ScaNN_{\"leaves\": 500, \"leaves_search\": 0.9, \"reorder\": 50}', 'build_time': 38.21839761734009, 'time': 9.998576879501343, 'recall': 0.7441119423663065, 'ndcg': 0.887575914291124}\n"
     ]
    },
    {
     "name": "stderr",
     "output_type": "stream",
     "text": [
      "[libprotobuf WARNING external/com_google_protobuf/src/google/protobuf/text_format.cc:339] Warning parsing text-format research_scann.ScannConfig: 43:11: text format contains deprecated field \"min_cluster_size\"\n",
      "2022-05-09 07:11:01.431714: I scann/partitioning/partitioner_factory_base.cc:71] Size of sampled dataset for training partition: 852831\n",
      "2022-05-09 07:11:13.912299: I ./scann/partitioning/kmeans_tree_partitioner_utils.h:102] PartitionerFactory ran in 12.480490496s.\n"
     ]
    },
    {
     "name": "stdout",
     "output_type": "stream",
     "text": [
      "{'name': 'ScaNN_{\"leaves\": 500, \"leaves_search\": 0.9, \"reorder\": 100}', 'build_time': 38.3338463306427, 'time': 10.18532943725586, 'recall': 0.8976447769465226, 'ndcg': 0.9306912768787227}\n"
     ]
    },
    {
     "name": "stderr",
     "output_type": "stream",
     "text": [
      "[libprotobuf WARNING external/com_google_protobuf/src/google/protobuf/text_format.cc:339] Warning parsing text-format research_scann.ScannConfig: 43:11: text format contains deprecated field \"min_cluster_size\"\n",
      "2022-05-09 07:11:49.993358: I scann/partitioning/partitioner_factory_base.cc:71] Size of sampled dataset for training partition: 852831\n",
      "2022-05-09 07:12:02.167404: I ./scann/partitioning/kmeans_tree_partitioner_utils.h:102] PartitionerFactory ran in 12.173958895s.\n"
     ]
    },
    {
     "name": "stdout",
     "output_type": "stream",
     "text": [
      "{'name': 'ScaNN_{\"leaves\": 500, \"leaves_search\": 0.9, \"reorder\": 500}', 'build_time': 38.09277367591858, 'time': 10.022528886795044, 'recall': 0.9948185092823497, 'ndcg': 0.9943966579519208}\n"
     ]
    },
    {
     "name": "stderr",
     "output_type": "stream",
     "text": [
      "[libprotobuf WARNING external/com_google_protobuf/src/google/protobuf/text_format.cc:339] Warning parsing text-format research_scann.ScannConfig: 43:11: text format contains deprecated field \"min_cluster_size\"\n",
      "2022-05-09 07:12:38.203401: I scann/partitioning/partitioner_factory_base.cc:71] Size of sampled dataset for training partition: 852831\n",
      "2022-05-09 07:13:16.371256: I ./scann/partitioning/kmeans_tree_partitioner_utils.h:102] PartitionerFactory ran in 38.167766228s.\n"
     ]
    },
    {
     "name": "stdout",
     "output_type": "stream",
     "text": [
      "{'name': 'ScaNN_{\"leaves\": 2000, \"leaves_search\": 0.1, \"reorder\": 50}', 'build_time': 64.22450304031372, 'time': 1.265932321548462, 'recall': 0.7527015793848711, 'ndcg': 0.8841634577163238}\n"
     ]
    },
    {
     "name": "stderr",
     "output_type": "stream",
     "text": [
      "[libprotobuf WARNING external/com_google_protobuf/src/google/protobuf/text_format.cc:339] Warning parsing text-format research_scann.ScannConfig: 43:11: text format contains deprecated field \"min_cluster_size\"\n",
      "2022-05-09 07:13:43.774466: I scann/partitioning/partitioner_factory_base.cc:71] Size of sampled dataset for training partition: 852831\n",
      "2022-05-09 07:14:21.722179: I ./scann/partitioning/kmeans_tree_partitioner_utils.h:102] PartitionerFactory ran in 37.947625767s.\n"
     ]
    },
    {
     "name": "stdout",
     "output_type": "stream",
     "text": [
      "{'name': 'ScaNN_{\"leaves\": 2000, \"leaves_search\": 0.1, \"reorder\": 100}', 'build_time': 64.02688217163086, 'time': 1.2639212608337402, 'recall': 0.886062621224716, 'ndcg': 0.9189976216135316}\n"
     ]
    },
    {
     "name": "stderr",
     "output_type": "stream",
     "text": [
      "[libprotobuf WARNING external/com_google_protobuf/src/google/protobuf/text_format.cc:339] Warning parsing text-format research_scann.ScannConfig: 43:11: text format contains deprecated field \"min_cluster_size\"\n",
      "2022-05-09 07:14:49.118252: I scann/partitioning/partitioner_factory_base.cc:71] Size of sampled dataset for training partition: 852831\n",
      "2022-05-09 07:15:27.131150: I ./scann/partitioning/kmeans_tree_partitioner_utils.h:102] PartitionerFactory ran in 38.012812153s.\n"
     ]
    },
    {
     "name": "stdout",
     "output_type": "stream",
     "text": [
      "{'name': 'ScaNN_{\"leaves\": 2000, \"leaves_search\": 0.1, \"reorder\": 500}', 'build_time': 64.04238200187683, 'time': 1.4091260433197021, 'recall': 0.9497367691881408, 'ndcg': 0.9505707469883938}\n"
     ]
    },
    {
     "name": "stderr",
     "output_type": "stream",
     "text": [
      "[libprotobuf WARNING external/com_google_protobuf/src/google/protobuf/text_format.cc:339] Warning parsing text-format research_scann.ScannConfig: 43:11: text format contains deprecated field \"min_cluster_size\"\n",
      "2022-05-09 07:15:54.653695: I scann/partitioning/partitioner_factory_base.cc:71] Size of sampled dataset for training partition: 852831\n",
      "2022-05-09 07:16:32.786864: I ./scann/partitioning/kmeans_tree_partitioner_utils.h:102] PartitionerFactory ran in 38.13308688s.\n"
     ]
    },
    {
     "name": "stdout",
     "output_type": "stream",
     "text": [
      "{'name': 'ScaNN_{\"leaves\": 2000, \"leaves_search\": 0.5, \"reorder\": 50}', 'build_time': 64.32871198654175, 'time': 6.8460915088653564, 'recall': 0.7670268772513161, 'ndcg': 0.891862201926546}\n"
     ]
    },
    {
     "name": "stderr",
     "output_type": "stream",
     "text": [
      "[libprotobuf WARNING external/com_google_protobuf/src/google/protobuf/text_format.cc:339] Warning parsing text-format research_scann.ScannConfig: 43:11: text format contains deprecated field \"min_cluster_size\"\n",
      "2022-05-09 07:17:05.915703: I scann/partitioning/partitioner_factory_base.cc:71] Size of sampled dataset for training partition: 852831\n",
      "2022-05-09 07:17:44.157397: I ./scann/partitioning/kmeans_tree_partitioner_utils.h:102] PartitionerFactory ran in 38.241601184s.\n"
     ]
    },
    {
     "name": "stdout",
     "output_type": "stream",
     "text": [
      "{'name': 'ScaNN_{\"leaves\": 2000, \"leaves_search\": 0.5, \"reorder\": 100}', 'build_time': 64.12865376472473, 'time': 6.830048084259033, 'recall': 0.9119977833194791, 'ndcg': 0.9347096091687577}\n"
     ]
    },
    {
     "name": "stderr",
     "output_type": "stream",
     "text": [
      "[libprotobuf WARNING external/com_google_protobuf/src/google/protobuf/text_format.cc:339] Warning parsing text-format research_scann.ScannConfig: 43:11: text format contains deprecated field \"min_cluster_size\"\n",
      "2022-05-09 07:18:16.956760: I scann/partitioning/partitioner_factory_base.cc:71] Size of sampled dataset for training partition: 852831\n",
      "2022-05-09 07:18:55.197197: I ./scann/partitioning/kmeans_tree_partitioner_utils.h:102] PartitionerFactory ran in 38.240353292s.\n"
     ]
    },
    {
     "name": "stdout",
     "output_type": "stream",
     "text": [
      "{'name': 'ScaNN_{\"leaves\": 2000, \"leaves_search\": 0.5, \"reorder\": 500}', 'build_time': 64.44151735305786, 'time': 6.890282392501831, 'recall': 0.9912164034358548, 'ndcg': 0.9879124387543947}\n"
     ]
    },
    {
     "name": "stderr",
     "output_type": "stream",
     "text": [
      "[libprotobuf WARNING external/com_google_protobuf/src/google/protobuf/text_format.cc:339] Warning parsing text-format research_scann.ScannConfig: 43:11: text format contains deprecated field \"min_cluster_size\"\n",
      "2022-05-09 07:19:28.351036: I scann/partitioning/partitioner_factory_base.cc:71] Size of sampled dataset for training partition: 852831\n",
      "2022-05-09 07:20:06.327555: I ./scann/partitioning/kmeans_tree_partitioner_utils.h:102] PartitionerFactory ran in 37.97643387s.\n"
     ]
    },
    {
     "name": "stdout",
     "output_type": "stream",
     "text": [
      "{'name': 'ScaNN_{\"leaves\": 2000, \"leaves_search\": 0.9, \"reorder\": 50}', 'build_time': 63.83234524726868, 'time': 11.574501514434814, 'recall': 0.7680798004987531, 'ndcg': 0.8926342457284976}\n"
     ]
    },
    {
     "name": "stderr",
     "output_type": "stream",
     "text": [
      "[libprotobuf WARNING external/com_google_protobuf/src/google/protobuf/text_format.cc:339] Warning parsing text-format research_scann.ScannConfig: 43:11: text format contains deprecated field \"min_cluster_size\"\n",
      "2022-05-09 07:20:43.834940: I scann/partitioning/partitioner_factory_base.cc:71] Size of sampled dataset for training partition: 852831\n",
      "2022-05-09 07:21:21.906102: I ./scann/partitioning/kmeans_tree_partitioner_utils.h:102] PartitionerFactory ran in 38.071081316s.\n"
     ]
    },
    {
     "name": "stdout",
     "output_type": "stream",
     "text": [
      "{'name': 'ScaNN_{\"leaves\": 2000, \"leaves_search\": 0.9, \"reorder\": 100}', 'build_time': 63.97715663909912, 'time': 11.682128190994263, 'recall': 0.9143530063729565, 'ndcg': 0.9373476944595971}\n"
     ]
    },
    {
     "name": "stderr",
     "output_type": "stream",
     "text": [
      "[libprotobuf WARNING external/com_google_protobuf/src/google/protobuf/text_format.cc:339] Warning parsing text-format research_scann.ScannConfig: 43:11: text format contains deprecated field \"min_cluster_size\"\n",
      "2022-05-09 07:21:59.577191: I scann/partitioning/partitioner_factory_base.cc:71] Size of sampled dataset for training partition: 852831\n",
      "2022-05-09 07:22:37.441291: I ./scann/partitioning/kmeans_tree_partitioner_utils.h:102] PartitionerFactory ran in 37.864015838s.\n"
     ]
    },
    {
     "name": "stdout",
     "output_type": "stream",
     "text": [
      "{'name': 'ScaNN_{\"leaves\": 2000, \"leaves_search\": 0.9, \"reorder\": 500}', 'build_time': 63.90440559387207, 'time': 12.08577036857605, 'recall': 0.9961762261014131, 'ndcg': 0.9955637595916447}\n"
     ]
    },
    {
     "name": "stderr",
     "output_type": "stream",
     "text": [
      "[libprotobuf WARNING external/com_google_protobuf/src/google/protobuf/text_format.cc:339] Warning parsing text-format research_scann.ScannConfig: 43:11: text format contains deprecated field \"min_cluster_size\"\n",
      "2022-05-09 07:23:15.645455: I scann/partitioning/partitioner_factory_base.cc:71] Size of sampled dataset for training partition: 852831\n",
      "2022-05-09 07:24:45.364027: I ./scann/partitioning/kmeans_tree_partitioner_utils.h:102] PartitionerFactory ran in 1m29.718479661s.\n"
     ]
    },
    {
     "name": "stdout",
     "output_type": "stream",
     "text": [
      "{'name': 'ScaNN_{\"leaves\": 5000, \"leaves_search\": 0.1, \"reorder\": 50}', 'build_time': 116.07712841033936, 'time': 1.8203003406524658, 'recall': 0.7731227486838459, 'ndcg': 0.8914512309269808}\n"
     ]
    },
    {
     "name": "stderr",
     "output_type": "stream",
     "text": [
      "[libprotobuf WARNING external/com_google_protobuf/src/google/protobuf/text_format.cc:339] Warning parsing text-format research_scann.ScannConfig: 43:11: text format contains deprecated field \"min_cluster_size\"\n",
      "2022-05-09 07:25:13.571374: I scann/partitioning/partitioner_factory_base.cc:71] Size of sampled dataset for training partition: 852831\n",
      "2022-05-09 07:26:42.950620: I ./scann/partitioning/kmeans_tree_partitioner_utils.h:102] PartitionerFactory ran in 1m29.379160221s.\n"
     ]
    },
    {
     "name": "stdout",
     "output_type": "stream",
     "text": [
      "{'name': 'ScaNN_{\"leaves\": 5000, \"leaves_search\": 0.1, \"reorder\": 100}', 'build_time': 115.68043065071106, 'time': 1.8294148445129395, 'recall': 0.9102244389027432, 'ndcg': 0.9301134327348096}\n"
     ]
    },
    {
     "name": "stderr",
     "output_type": "stream",
     "text": [
      "[libprotobuf WARNING external/com_google_protobuf/src/google/protobuf/text_format.cc:339] Warning parsing text-format research_scann.ScannConfig: 43:11: text format contains deprecated field \"min_cluster_size\"\n",
      "2022-05-09 07:27:11.173597: I scann/partitioning/partitioner_factory_base.cc:71] Size of sampled dataset for training partition: 852831\n",
      "2022-05-09 07:28:40.717995: I ./scann/partitioning/kmeans_tree_partitioner_utils.h:102] PartitionerFactory ran in 1m29.544316493s.\n"
     ]
    },
    {
     "name": "stdout",
     "output_type": "stream",
     "text": [
      "{'name': 'ScaNN_{\"leaves\": 5000, \"leaves_search\": 0.1, \"reorder\": 500}', 'build_time': 116.07758641242981, 'time': 2.098454713821411, 'recall': 0.9689387642006095, 'ndcg': 0.9640775766924381}\n"
     ]
    },
    {
     "name": "stderr",
     "output_type": "stream",
     "text": [
      "[libprotobuf WARNING external/com_google_protobuf/src/google/protobuf/text_format.cc:339] Warning parsing text-format research_scann.ScannConfig: 43:11: text format contains deprecated field \"min_cluster_size\"\n",
      "2022-05-09 07:29:09.476949: I scann/partitioning/partitioner_factory_base.cc:71] Size of sampled dataset for training partition: 852831\n",
      "2022-05-09 07:30:36.485702: I ./scann/partitioning/kmeans_tree_partitioner_utils.h:102] PartitionerFactory ran in 1m27.008665298s.\n"
     ]
    },
    {
     "name": "stdout",
     "output_type": "stream",
     "text": [
      "{'name': 'ScaNN_{\"leaves\": 5000, \"leaves_search\": 0.5, \"reorder\": 50}', 'build_time': 112.47400093078613, 'time': 8.96124267578125, 'recall': 0.7800221668052092, 'ndcg': 0.8961422407562594}\n"
     ]
    },
    {
     "name": "stderr",
     "output_type": "stream",
     "text": [
      "[libprotobuf WARNING external/com_google_protobuf/src/google/protobuf/text_format.cc:339] Warning parsing text-format research_scann.ScannConfig: 43:11: text format contains deprecated field \"min_cluster_size\"\n",
      "2022-05-09 07:31:10.999440: I scann/partitioning/partitioner_factory_base.cc:71] Size of sampled dataset for training partition: 852831\n",
      "2022-05-09 07:32:35.172694: I ./scann/partitioning/kmeans_tree_partitioner_utils.h:102] PartitionerFactory ran in 1m24.173172317s.\n"
     ]
    },
    {
     "name": "stdout",
     "output_type": "stream",
     "text": [
      "{'name': 'ScaNN_{\"leaves\": 5000, \"leaves_search\": 0.5, \"reorder\": 100}', 'build_time': 109.40464806556702, 'time': 9.008808374404907, 'recall': 0.9250484898863951, 'ndcg': 0.9408300147116927}\n"
     ]
    },
    {
     "name": "stderr",
     "output_type": "stream",
     "text": [
      "[libprotobuf WARNING external/com_google_protobuf/src/google/protobuf/text_format.cc:339] Warning parsing text-format research_scann.ScannConfig: 43:11: text format contains deprecated field \"min_cluster_size\"\n",
      "2022-05-09 07:33:09.452068: I scann/partitioning/partitioner_factory_base.cc:71] Size of sampled dataset for training partition: 852831\n",
      "2022-05-09 07:34:34.291636: I ./scann/partitioning/kmeans_tree_partitioner_utils.h:102] PartitionerFactory ran in 1m24.839477993s.\n"
     ]
    },
    {
     "name": "stdout",
     "output_type": "stream",
     "text": [
      "{'name': 'ScaNN_{\"leaves\": 5000, \"leaves_search\": 0.5, \"reorder\": 500}', 'build_time': 109.75634956359863, 'time': 8.739070415496826, 'recall': 0.9942920476586312, 'ndcg': 0.99077200294828}\n"
     ]
    },
    {
     "name": "stderr",
     "output_type": "stream",
     "text": [
      "[libprotobuf WARNING external/com_google_protobuf/src/google/protobuf/text_format.cc:339] Warning parsing text-format research_scann.ScannConfig: 43:11: text format contains deprecated field \"min_cluster_size\"\n",
      "2022-05-09 07:35:07.975446: I scann/partitioning/partitioner_factory_base.cc:71] Size of sampled dataset for training partition: 852831\n",
      "2022-05-09 07:36:32.416919: I ./scann/partitioning/kmeans_tree_partitioner_utils.h:102] PartitionerFactory ran in 1m24.441391051s.\n"
     ]
    },
    {
     "name": "stdout",
     "output_type": "stream",
     "text": [
      "{'name': 'ScaNN_{\"leaves\": 5000, \"leaves_search\": 0.9, \"reorder\": 50}', 'build_time': 110.42578387260437, 'time': 16.161819458007812, 'recall': 0.7806871709614852, 'ndcg': 0.8969972658417454}\n"
     ]
    },
    {
     "name": "stderr",
     "output_type": "stream",
     "text": [
      "[libprotobuf WARNING external/com_google_protobuf/src/google/protobuf/text_format.cc:339] Warning parsing text-format research_scann.ScannConfig: 43:11: text format contains deprecated field \"min_cluster_size\"\n",
      "2022-05-09 07:37:14.704462: I scann/partitioning/partitioner_factory_base.cc:71] Size of sampled dataset for training partition: 852831\n",
      "2022-05-09 07:38:45.390126: I ./scann/partitioning/kmeans_tree_partitioner_utils.h:102] PartitionerFactory ran in 1m30.685572195s.\n"
     ]
    },
    {
     "name": "stdout",
     "output_type": "stream",
     "text": [
      "{'name': 'ScaNN_{\"leaves\": 5000, \"leaves_search\": 0.9, \"reorder\": 100}', 'build_time': 117.20485234260559, 'time': 15.402585744857788, 'recall': 0.9265170407315045, 'ndcg': 0.9422697236453447}\n"
     ]
    },
    {
     "name": "stderr",
     "output_type": "stream",
     "text": [
      "[libprotobuf WARNING external/com_google_protobuf/src/google/protobuf/text_format.cc:339] Warning parsing text-format research_scann.ScannConfig: 43:11: text format contains deprecated field \"min_cluster_size\"\n",
      "2022-05-09 07:39:27.398769: I scann/partitioning/partitioner_factory_base.cc:71] Size of sampled dataset for training partition: 852831\n",
      "2022-05-09 07:40:56.835962: I ./scann/partitioning/kmeans_tree_partitioner_utils.h:102] PartitionerFactory ran in 1m29.437102503s.\n"
     ]
    },
    {
     "name": "stdout",
     "output_type": "stream",
     "text": [
      "{'name': 'ScaNN_{\"leaves\": 5000, \"leaves_search\": 0.9, \"reorder\": 500}', 'build_time': 115.79392910003662, 'time': 15.375367879867554, 'recall': 0.9976170684400111, 'ndcg': 0.9966423405421344}\n"
     ]
    },
    {
     "name": "stderr",
     "output_type": "stream",
     "text": [
      "[libprotobuf WARNING external/com_google_protobuf/src/google/protobuf/text_format.cc:339] Warning parsing text-format research_scann.ScannConfig: 43:11: text format contains deprecated field \"min_cluster_size\"\n",
      "2022-05-09 07:41:38.596558: I scann/partitioning/partitioner_factory_base.cc:71] Size of sampled dataset for training partition: 852831\n",
      "2022-05-09 07:44:32.925451: I ./scann/partitioning/kmeans_tree_partitioner_utils.h:102] PartitionerFactory ran in 2m54.328796192s.\n"
     ]
    },
    {
     "name": "stdout",
     "output_type": "stream",
     "text": [
      "{'name': 'ScaNN_{\"leaves\": 10000, \"leaves_search\": 0.1, \"reorder\": 50}', 'build_time': 205.60001063346863, 'time': 3.2111473083496094, 'recall': 0.7804100858963702, 'ndcg': 0.8944068959394404}\n"
     ]
    },
    {
     "name": "stderr",
     "output_type": "stream",
     "text": [
      "[libprotobuf WARNING external/com_google_protobuf/src/google/protobuf/text_format.cc:339] Warning parsing text-format research_scann.ScannConfig: 43:11: text format contains deprecated field \"min_cluster_size\"\n",
      "2022-05-09 07:45:07.524190: I scann/partitioning/partitioner_factory_base.cc:71] Size of sampled dataset for training partition: 852831\n",
      "2022-05-09 07:48:05.668030: I ./scann/partitioning/kmeans_tree_partitioner_utils.h:102] PartitionerFactory ran in 2m58.143733306s.\n"
     ]
    },
    {
     "name": "stdout",
     "output_type": "stream",
     "text": [
      "{'name': 'ScaNN_{\"leaves\": 10000, \"leaves_search\": 0.1, \"reorder\": 100}', 'build_time': 209.4417667388916, 'time': 2.9656879901885986, 'recall': 0.914657799944583, 'ndcg': 0.933379173003863}\n"
     ]
    },
    {
     "name": "stderr",
     "output_type": "stream",
     "text": [
      "[libprotobuf WARNING external/com_google_protobuf/src/google/protobuf/text_format.cc:339] Warning parsing text-format research_scann.ScannConfig: 43:11: text format contains deprecated field \"min_cluster_size\"\n",
      "2022-05-09 07:48:39.965217: I scann/partitioning/partitioner_factory_base.cc:71] Size of sampled dataset for training partition: 852831\n",
      "2022-05-09 07:51:36.270533: I ./scann/partitioning/kmeans_tree_partitioner_utils.h:102] PartitionerFactory ran in 2m56.305209343s.\n"
     ]
    },
    {
     "name": "stdout",
     "output_type": "stream",
     "text": [
      "{'name': 'ScaNN_{\"leaves\": 10000, \"leaves_search\": 0.1, \"reorder\": 500}', 'build_time': 207.57821989059448, 'time': 3.238398551940918, 'recall': 0.9735106677750069, 'ndcg': 0.9687713808295506}\n"
     ]
    },
    {
     "name": "stderr",
     "output_type": "stream",
     "text": [
      "[libprotobuf WARNING external/com_google_protobuf/src/google/protobuf/text_format.cc:339] Warning parsing text-format research_scann.ScannConfig: 43:11: text format contains deprecated field \"min_cluster_size\"\n",
      "2022-05-09 07:52:10.843187: I scann/partitioning/partitioner_factory_base.cc:71] Size of sampled dataset for training partition: 852831\n",
      "2022-05-09 07:55:04.407619: I ./scann/partitioning/kmeans_tree_partitioner_utils.h:102] PartitionerFactory ran in 2m53.564337295s.\n"
     ]
    },
    {
     "name": "stdout",
     "output_type": "stream",
     "text": [
      "{'name': 'ScaNN_{\"leaves\": 10000, \"leaves_search\": 0.5, \"reorder\": 50}', 'build_time': 203.9434940814972, 'time': 12.189081907272339, 'recall': 0.786118038237739, 'ndcg': 0.8976131947046355}\n"
     ]
    },
    {
     "name": "stderr",
     "output_type": "stream",
     "text": [
      "[libprotobuf WARNING external/com_google_protobuf/src/google/protobuf/text_format.cc:339] Warning parsing text-format research_scann.ScannConfig: 43:11: text format contains deprecated field \"min_cluster_size\"\n",
      "2022-05-09 07:55:47.054694: I scann/partitioning/partitioner_factory_base.cc:71] Size of sampled dataset for training partition: 852831\n",
      "2022-05-09 07:58:29.375319: I ./scann/partitioning/kmeans_tree_partitioner_utils.h:102] PartitionerFactory ran in 2m42.320504101s.\n"
     ]
    },
    {
     "name": "stdout",
     "output_type": "stream",
     "text": [
      "{'name': 'ScaNN_{\"leaves\": 10000, \"leaves_search\": 0.5, \"reorder\": 100}', 'build_time': 190.69445252418518, 'time': 12.523913383483887, 'recall': 0.9264616237184816, 'ndcg': 0.9421052767437248}\n"
     ]
    },
    {
     "name": "stderr",
     "output_type": "stream",
     "text": [
      "[libprotobuf WARNING external/com_google_protobuf/src/google/protobuf/text_format.cc:339] Warning parsing text-format research_scann.ScannConfig: 43:11: text format contains deprecated field \"min_cluster_size\"\n",
      "2022-05-09 07:59:10.366591: I scann/partitioning/partitioner_factory_base.cc:71] Size of sampled dataset for training partition: 852831\n",
      "2022-05-09 08:01:50.625675: I ./scann/partitioning/kmeans_tree_partitioner_utils.h:102] PartitionerFactory ran in 2m40.258941119s.\n"
     ]
    },
    {
     "name": "stdout",
     "output_type": "stream",
     "text": [
      "{'name': 'ScaNN_{\"leaves\": 10000, \"leaves_search\": 0.5, \"reorder\": 500}', 'build_time': 188.98035407066345, 'time': 12.101403951644897, 'recall': 0.9944582986977002, 'ndcg': 0.9915720501793028}\n"
     ]
    },
    {
     "name": "stderr",
     "output_type": "stream",
     "text": [
      "[libprotobuf WARNING external/com_google_protobuf/src/google/protobuf/text_format.cc:339] Warning parsing text-format research_scann.ScannConfig: 43:11: text format contains deprecated field \"min_cluster_size\"\n",
      "2022-05-09 08:02:31.501427: I scann/partitioning/partitioner_factory_base.cc:71] Size of sampled dataset for training partition: 852831\n",
      "2022-05-09 08:05:11.885419: I ./scann/partitioning/kmeans_tree_partitioner_utils.h:102] PartitionerFactory ran in 2m40.383884744s.\n"
     ]
    },
    {
     "name": "stdout",
     "output_type": "stream",
     "text": [
      "{'name': 'ScaNN_{\"leaves\": 10000, \"leaves_search\": 0.9, \"reorder\": 50}', 'build_time': 188.83107233047485, 'time': 20.410709142684937, 'recall': 0.786339706289831, 'ndcg': 0.8959620405140044}\n"
     ]
    },
    {
     "name": "stderr",
     "output_type": "stream",
     "text": [
      "[libprotobuf WARNING external/com_google_protobuf/src/google/protobuf/text_format.cc:339] Warning parsing text-format research_scann.ScannConfig: 43:11: text format contains deprecated field \"min_cluster_size\"\n",
      "2022-05-09 08:06:00.815634: I scann/partitioning/partitioner_factory_base.cc:71] Size of sampled dataset for training partition: 852831\n",
      "2022-05-09 08:08:38.749689: I ./scann/partitioning/kmeans_tree_partitioner_utils.h:102] PartitionerFactory ran in 2m37.933953289s.\n"
     ]
    },
    {
     "name": "stdout",
     "output_type": "stream",
     "text": [
      "{'name': 'ScaNN_{\"leaves\": 10000, \"leaves_search\": 0.9, \"reorder\": 100}', 'build_time': 186.44897866249084, 'time': 20.991503715515137, 'recall': 0.9277362150180105, 'ndcg': 0.9435553019238285}\n"
     ]
    },
    {
     "name": "stderr",
     "output_type": "stream",
     "text": [
      "[libprotobuf WARNING external/com_google_protobuf/src/google/protobuf/text_format.cc:339] Warning parsing text-format research_scann.ScannConfig: 43:11: text format contains deprecated field \"min_cluster_size\"\n",
      "2022-05-09 08:09:28.348307: I scann/partitioning/partitioner_factory_base.cc:71] Size of sampled dataset for training partition: 852831\n",
      "2022-05-09 08:12:06.208681: I ./scann/partitioning/kmeans_tree_partitioner_utils.h:102] PartitionerFactory ran in 2m37.860289632s.\n"
     ]
    },
    {
     "name": "stdout",
     "output_type": "stream",
     "text": [
      "{'name': 'ScaNN_{\"leaves\": 10000, \"leaves_search\": 0.9, \"reorder\": 500}', 'build_time': 186.00796627998352, 'time': 21.087839603424072, 'recall': 0.9978664449986145, 'ndcg': 0.9977351451272201}\n"
     ]
    }
   ],
   "source": [
    "for row in tqdm(tasks):\n",
    "    num_leaves_to_search = int(row[\"leaves\"] * row[\"leaves_search\"])\n",
    "    start = time.time()\n",
    "    searcher = (\n",
    "        scann.scann_ops_pybind.builder(emb_train, 30, \"dot_product\")\n",
    "        .tree(num_leaves=row[\"leaves\"], num_leaves_to_search=num_leaves_to_search, training_sample_size=len(emb_train))\n",
    "        .score_ah(2, anisotropic_quantization_threshold=0.2)\n",
    "        .reorder(row[\"reorder\"])\n",
    "        .build()\n",
    "    )\n",
    "    build_time = time.time() - start\n",
    "\n",
    "    start = time.time()\n",
    "    neighbors = []\n",
    "    for vec in emb_test:\n",
    "        neig, dist = searcher.search(vec, NEIGHBOR_SIZE)\n",
    "        neighbors.append(neig)\n",
    "    query_time = time.time() - start\n",
    "    neighbors = np.array(neighbors)\n",
    "\n",
    "    experimets.append(\n",
    "        {\n",
    "            \"name\": \"ScaNN_{}\".format(json.dumps(row)),\n",
    "            \"build_time\": build_time,\n",
    "            \"time\": query_time,\n",
    "            \"recall\": compute_recall(neighbors, true_neig[:, :30]),\n",
    "            \"ndcg\": ndcg_score(true_neig[:, :30], neighbors),\n",
    "        }\n",
    "    )\n",
    "    print(experimets[-1])"
   ]
  },
  {
   "cell_type": "markdown",
   "id": "dba098af-0182-4f2e-a602-74e44439f798",
   "metadata": {},
   "source": [
    "# NMSLib"
   ]
  },
  {
   "cell_type": "code",
   "execution_count": 23,
   "id": "59ea553f-ce87-4b35-baba-e216c07bc907",
   "metadata": {
    "execution": {
     "iopub.execute_input": "2022-05-09T08:49:53.375855Z",
     "iopub.status.busy": "2022-05-09T08:49:53.375278Z",
     "iopub.status.idle": "2022-05-09T08:49:53.379789Z",
     "shell.execute_reply": "2022-05-09T08:49:53.379386Z",
     "shell.execute_reply.started": "2022-05-09T08:49:53.375833Z"
    }
   },
   "outputs": [],
   "source": [
    "import nmslib"
   ]
  },
  {
   "cell_type": "code",
   "execution_count": 29,
   "id": "5b32b0ca-92b2-405e-9bd8-abcba1e8a700",
   "metadata": {
    "execution": {
     "iopub.execute_input": "2022-05-09T09:05:35.566677Z",
     "iopub.status.busy": "2022-05-09T09:05:35.566114Z",
     "iopub.status.idle": "2022-05-09T09:05:35.569529Z",
     "shell.execute_reply": "2022-05-09T09:05:35.569142Z",
     "shell.execute_reply.started": "2022-05-09T09:05:35.566654Z"
    }
   },
   "outputs": [],
   "source": [
    "tasks = []\n",
    "for M in [8, 16, 32, 48]:\n",
    "    for post in [0, 2]:\n",
    "        for efConstruction in [400, 800, 1600]:\n",
    "            tasks.append({\n",
    "                'M': M,\n",
    "                'post': post,\n",
    "                'efConstruction': efConstruction,\n",
    "            })"
   ]
  },
  {
   "cell_type": "code",
   "execution_count": 50,
   "id": "6a010b4e-de34-4b02-a3ba-26126ca5893c",
   "metadata": {
    "execution": {
     "iopub.execute_input": "2022-05-09T09:22:22.734766Z",
     "iopub.status.busy": "2022-05-09T09:22:22.734188Z",
     "iopub.status.idle": "2022-05-09T12:12:03.688902Z",
     "shell.execute_reply": "2022-05-09T12:12:03.688134Z",
     "shell.execute_reply.started": "2022-05-09T09:22:22.734743Z"
    },
    "tags": []
   },
   "outputs": [
    {
     "data": {
      "application/vnd.jupyter.widget-view+json": {
       "model_id": "409a1697bd83436ea1219bc7ce45bac5",
       "version_major": 2,
       "version_minor": 0
      },
      "text/plain": [
       "  0%|          | 0/22 [00:00<?, ?it/s]"
      ]
     },
     "metadata": {},
     "output_type": "display_data"
    },
    {
     "name": "stdout",
     "output_type": "stream",
     "text": [
      "{'name': 'NMSLib_{\"M\": 8, \"post\": 0, \"efConstruction\": 1600}', 'build_time': 281.025386095047, 'time': 0.11313605308532715, 'recall': 0.3855915766140205, 'ndcg': 0.8446568866837015}\n",
      "{'name': 'NMSLib_{\"M\": 8, \"post\": 2, \"efConstruction\": 400}', 'build_time': 159.4739179611206, 'time': 0.14585423469543457, 'recall': 0.501219174286506, 'ndcg': 0.8517295742652308}\n",
      "{'name': 'NMSLib_{\"M\": 8, \"post\": 2, \"efConstruction\": 800}', 'build_time': 293.7391712665558, 'time': 0.1353168487548828, 'recall': 0.5052369077306733, 'ndcg': 0.8487742371096397}\n",
      "{'name': 'NMSLib_{\"M\": 8, \"post\": 2, \"efConstruction\": 1600}', 'build_time': 549.2597508430481, 'time': 0.1435079574584961, 'recall': 0.4972014408423386, 'ndcg': 0.8479791137731587}\n",
      "{'name': 'NMSLib_{\"M\": 16, \"post\": 0, \"efConstruction\": 400}', 'build_time': 123.29502534866333, 'time': 0.17882084846496582, 'recall': 0.47791632031033526, 'ndcg': 0.8486602980005634}\n",
      "{'name': 'NMSLib_{\"M\": 16, \"post\": 0, \"efConstruction\": 800}', 'build_time': 228.58638525009155, 'time': 0.16748762130737305, 'recall': 0.4946799667497922, 'ndcg': 0.8455058468989721}\n",
      "{'name': 'NMSLib_{\"M\": 16, \"post\": 0, \"efConstruction\": 1600}', 'build_time': 421.1662425994873, 'time': 0.16938376426696777, 'recall': 0.5088667220836797, 'ndcg': 0.8480441932739902}\n",
      "{'name': 'NMSLib_{\"M\": 16, \"post\": 2, \"efConstruction\": 400}', 'build_time': 238.9258234500885, 'time': 0.1965935230255127, 'recall': 0.6183707398171239, 'ndcg': 0.8552165981198782}\n",
      "{'name': 'NMSLib_{\"M\": 16, \"post\": 2, \"efConstruction\": 800}', 'build_time': 448.51896262168884, 'time': 0.21610665321350098, 'recall': 0.6315322804100859, 'ndcg': 0.8545446162028386}\n",
      "{'name': 'NMSLib_{\"M\": 16, \"post\": 2, \"efConstruction\": 1600}', 'build_time': 833.3595151901245, 'time': 0.24761605262756348, 'recall': 0.6399833748960931, 'ndcg': 0.8563512324742886}\n",
      "{'name': 'NMSLib_{\"M\": 32, \"post\": 0, \"efConstruction\": 400}', 'build_time': 161.5063190460205, 'time': 0.1799638271331787, 'recall': 0.5231366029371017, 'ndcg': 0.8500596238185356}\n",
      "{'name': 'NMSLib_{\"M\": 32, \"post\": 0, \"efConstruction\": 800}', 'build_time': 307.9146785736084, 'time': 0.20685720443725586, 'recall': 0.5515932391244112, 'ndcg': 0.8500094435926973}\n",
      "{'name': 'NMSLib_{\"M\": 32, \"post\": 0, \"efConstruction\": 1600}', 'build_time': 580.2207000255585, 'time': 0.2232983112335205, 'recall': 0.5629537267941258, 'ndcg': 0.8497084977750189}\n",
      "{'name': 'NMSLib_{\"M\": 32, \"post\": 2, \"efConstruction\": 400}', 'build_time': 314.89107608795166, 'time': 0.2543506622314453, 'recall': 0.6640897755610973, 'ndcg': 0.8599320556961002}\n",
      "{'name': 'NMSLib_{\"M\": 32, \"post\": 2, \"efConstruction\": 800}', 'build_time': 603.8357694149017, 'time': 0.28133630752563477, 'recall': 0.6873649210307564, 'ndcg': 0.8633224522469813}\n",
      "{'name': 'NMSLib_{\"M\": 32, \"post\": 2, \"efConstruction\": 1600}', 'build_time': 1135.7723536491394, 'time': 0.31432247161865234, 'recall': 0.7110279855915767, 'ndcg': 0.8645961038256025}\n",
      "{'name': 'NMSLib_{\"M\": 48, \"post\": 0, \"efConstruction\": 400}', 'build_time': 175.23130989074707, 'time': 0.19469189643859863, 'recall': 0.5275145469659185, 'ndcg': 0.848385173556578}\n",
      "{'name': 'NMSLib_{\"M\": 48, \"post\": 0, \"efConstruction\": 800}', 'build_time': 340.7478549480438, 'time': 0.22005534172058105, 'recall': 0.555749515101136, 'ndcg': 0.8499781765986285}\n",
      "{'name': 'NMSLib_{\"M\": 48, \"post\": 0, \"efConstruction\": 1600}', 'build_time': 649.9780602455139, 'time': 0.24699020385742188, 'recall': 0.5818509282349681, 'ndcg': 0.8533960184774735}\n",
      "{'name': 'NMSLib_{\"M\": 48, \"post\": 2, \"efConstruction\": 400}', 'build_time': 375.0508496761322, 'time': 0.3156757354736328, 'recall': 0.6684954280964256, 'ndcg': 0.8644148824714675}\n",
      "{'name': 'NMSLib_{\"M\": 48, \"post\": 2, \"efConstruction\": 800}', 'build_time': 669.2887742519379, 'time': 0.30667614936828613, 'recall': 0.700665004156276, 'ndcg': 0.8633435706821433}\n",
      "{'name': 'NMSLib_{\"M\": 48, \"post\": 2, \"efConstruction\": 1600}', 'build_time': 1282.5550572872162, 'time': 0.33763647079467773, 'recall': 0.7283458021612635, 'ndcg': 0.8674368543317023}\n"
     ]
    }
   ],
   "source": [
    "for row in tqdm(tasks[2:]):\n",
    "    start = time.time()\n",
    "    index = nmslib.init(method='hnsw', space='cosinesimil')\n",
    "    index.addDataPointBatch(emb_train)\n",
    "    index.createIndex(row, print_progress=False)\n",
    "    build_time = time.time() - start\n",
    "\n",
    "    start = time.time()\n",
    "    neighbors = []\n",
    "    for vec in emb_test:\n",
    "        neig, dist = index.knnQuery(vec, NEIGHBOR_SIZE)\n",
    "        neighbors.append(neig)\n",
    "    query_time = time.time() - start\n",
    "    neighbors = np.array([np.hstack([neig, [-1] * NEIGHBOR_SIZE])[:NEIGHBOR_SIZE] for neig in neighbors])\n",
    "\n",
    "    experimets.append(\n",
    "        {\n",
    "            \"name\": \"NMSLib_{}\".format(json.dumps(row)),\n",
    "            \"build_time\": build_time,\n",
    "            \"time\": query_time,\n",
    "            \"recall\": compute_recall(neighbors, true_neig[:, :30]),\n",
    "            \"ndcg\": ndcg_score(true_neig[:, :30], neighbors),\n",
    "        }\n",
    "    )\n",
    "    print(experimets[-1])"
   ]
  },
  {
   "cell_type": "code",
   "execution_count": 58,
   "id": "5946c083-a188-45f5-a344-752f1c073fe4",
   "metadata": {
    "execution": {
     "iopub.execute_input": "2022-05-09T13:06:00.207318Z",
     "iopub.status.busy": "2022-05-09T13:06:00.206941Z",
     "iopub.status.idle": "2022-05-09T13:06:00.209897Z",
     "shell.execute_reply": "2022-05-09T13:06:00.209494Z",
     "shell.execute_reply.started": "2022-05-09T13:06:00.207297Z"
    },
    "tags": []
   },
   "outputs": [],
   "source": [
    "import pandas as pd\n",
    "import matplotlib.pyplot as plt\n",
    "pd.DataFrame(experimets).to_csv('ann.csv', index=False)"
   ]
  },
  {
   "cell_type": "code",
   "execution_count": 59,
   "id": "05246337-d85f-428a-ada0-3763028e63a9",
   "metadata": {
    "execution": {
     "iopub.execute_input": "2022-05-09T13:06:02.608183Z",
     "iopub.status.busy": "2022-05-09T13:06:02.607589Z",
     "iopub.status.idle": "2022-05-09T13:06:02.613776Z",
     "shell.execute_reply": "2022-05-09T13:06:02.613350Z",
     "shell.execute_reply.started": "2022-05-09T13:06:02.608161Z"
    },
    "tags": []
   },
   "outputs": [],
   "source": [
    "df = pd.read_csv('ann.csv')\n",
    "df = df[df['recall'] > 0.2]\n",
    "df['qps'] =  len(emb_test) / df['time']"
   ]
  },
  {
   "cell_type": "code",
   "execution_count": 77,
   "id": "8bf04c58-2dbd-427b-841d-bf602f2de431",
   "metadata": {
    "execution": {
     "iopub.execute_input": "2022-05-09T13:20:11.296967Z",
     "iopub.status.busy": "2022-05-09T13:20:11.296575Z",
     "iopub.status.idle": "2022-05-09T13:20:11.846550Z",
     "shell.execute_reply": "2022-05-09T13:20:11.846160Z",
     "shell.execute_reply.started": "2022-05-09T13:20:11.296942Z"
    },
    "tags": []
   },
   "outputs": [
    {
     "data": {
      "image/png": "[encoded data removed]",
      "text/plain": [
       "<Figure size 576x360 with 1 Axes>"
      ]
     },
     "metadata": {},
     "output_type": "display_data"
    }
   ],
   "source": [
    "plt.figure(figsize=(8, 5), facecolor='w')\n",
    "for name in ['Annoy', 'ScaNN', 'NMSLib', 'BF']:\n",
    "    x = df[df['name'].str.startswith(name)].sort_values('recall')\n",
    "    plt.scatter(x['recall'], x['qps'], label=name)\n",
    "plt.yscale('log')\n",
    "# plt.xscale('log')\n",
    "plt.grid()\n",
    "plt.legend()\n",
    "plt.xlabel('Recall')\n",
    "plt.ylabel('Запросов в секунду')\n",
    "plt.title('Recall - запросов в секунду - выше и правее лучше')\n",
    "plt.savefig('ann_recall_qps.png', bbox_inches ='tight')\n",
    "plt.show()"
   ]
  },
  {
   "cell_type": "code",
   "execution_count": 78,
   "id": "0fa498b1-7dd4-4f33-9b78-a77acc7d92de",
   "metadata": {
    "execution": {
     "iopub.execute_input": "2022-05-09T13:20:17.535161Z",
     "iopub.status.busy": "2022-05-09T13:20:17.534551Z",
     "iopub.status.idle": "2022-05-09T13:20:17.969622Z",
     "shell.execute_reply": "2022-05-09T13:20:17.969222Z",
     "shell.execute_reply.started": "2022-05-09T13:20:17.535136Z"
    },
    "tags": []
   },
   "outputs": [
    {
     "data": {
      "image/png": "[encoded data removed]",
      "text/plain": [
       "<Figure size 576x360 with 1 Axes>"
      ]
     },
     "metadata": {},
     "output_type": "display_data"
    }
   ],
   "source": [
    "plt.figure(figsize=(8, 5), facecolor='w')\n",
    "for name in ['Annoy', 'ScaNN', 'NMSLib']:\n",
    "    x = df[df['name'].str.startswith(name)].sort_values('recall')\n",
    "    plt.scatter(x['recall'], x['build_time'], label=name)\n",
    "plt.yscale('log')\n",
    "# plt.xscale('log')\n",
    "plt.grid()\n",
    "plt.legend()\n",
    "plt.xlabel('Recall')\n",
    "plt.ylabel('Время построения индекса, с')\n",
    "plt.title('Recall - время построения индекса - ниже и правее лучше')\n",
    "plt.savefig('ann_recall_build.png', bbox_inches ='tight')\n",
    "plt.show()"
   ]
  },
  {
   "cell_type": "code",
   "execution_count": null,
   "id": "3340f5bd-a460-4d60-a547-7a9625765111",
   "metadata": {},
   "outputs": [],
   "source": []
  }
 ],
 "metadata": {
  "kernelspec": {
   "display_name": "Python 3 (ipykernel)",
   "language": "python",
   "name": "python3"
  },
  "language_info": {
   "codemirror_mode": {
    "name": "ipython",
    "version": 3
   },
   "file_extension": ".py",
   "mimetype": "text/x-python",
   "name": "python",
   "nbconvert_exporter": "python",
   "pygments_lexer": "ipython3",
   "version": "3.8.10"
  }
 },
 "nbformat": 4,
 "nbformat_minor": 5
}
